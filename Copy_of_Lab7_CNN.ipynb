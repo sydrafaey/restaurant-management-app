{
  "nbformat": 4,
  "nbformat_minor": 0,
  "metadata": {
    "colab": {
      "name": "Copy of Lab7-CNN.ipynb",
      "provenance": [],
      "include_colab_link": true
    },
    "kernelspec": {
      "name": "python3",
      "display_name": "Python 3"
    },
    "language_info": {
      "name": "python"
    }
  },
  "cells": [
    {
      "cell_type": "markdown",
      "metadata": {
        "id": "view-in-github",
        "colab_type": "text"
      },
      "source": [
        "<a href=\"https://colab.research.google.com/github/sydrafaey/restaurant-management-app/blob/main/Copy_of_Lab7_CNN.ipynb\" target=\"_parent\"><img src=\"https://colab.research.google.com/assets/colab-badge.svg\" alt=\"Open In Colab\"/></a>"
      ]
    },
    {
      "cell_type": "code",
      "metadata": {
        "id": "kMt9NHtk2ZTd"
      },
      "source": [
        "# keras imports for the dataset and building our neural network\n",
        "from keras.datasets import mnist\n",
        "from keras.models import Sequential\n",
        "from keras.layers import Dense, Dropout, Conv2D, MaxPool2D, Flatten\n",
        "from keras.utils import np_utils"
      ],
      "execution_count": null,
      "outputs": []
    },
    {
      "cell_type": "code",
      "metadata": {
        "colab": {
          "base_uri": "https://localhost:8080/"
        },
        "id": "Bmsy8gs42e7j",
        "outputId": "d5c7578b-33ec-43da-e185-1160e8becd0c"
      },
      "source": [
        "# loading the dataset\n",
        "(X_train, y_train), (X_test, y_test) = mnist.load_data()"
      ],
      "execution_count": null,
      "outputs": [
        {
          "output_type": "stream",
          "text": [
            "Downloading data from https://storage.googleapis.com/tensorflow/tf-keras-datasets/mnist.npz\n",
            "11493376/11490434 [==============================] - 0s 0us/step\n"
          ],
          "name": "stdout"
        }
      ]
    },
    {
      "cell_type": "code",
      "metadata": {
        "id": "6xfCil1N2hrF"
      },
      "source": [
        "# building the input vector from the 28x28 pixels\n",
        "X_train = X_train.reshape(X_train.shape[0], 28, 28, 1)\n",
        "X_test = X_test.reshape(X_test.shape[0], 28, 28, 1)\n",
        "X_train = X_train.astype('float32')\n",
        "X_test = X_test.astype('float32')"
      ],
      "execution_count": null,
      "outputs": []
    },
    {
      "cell_type": "code",
      "metadata": {
        "id": "4NjDBztK2j40"
      },
      "source": [
        "# normalizing the data to help with the training\n",
        "X_train /= 255\n",
        "X_test /= 255"
      ],
      "execution_count": null,
      "outputs": []
    },
    {
      "cell_type": "code",
      "metadata": {
        "colab": {
          "base_uri": "https://localhost:8080/"
        },
        "id": "ISRV_kU324n1",
        "outputId": "5246bd42-7a66-4bd1-d1d8-26c6a5613855"
      },
      "source": [
        "# one-hot encoding using keras' numpy-related utilities\n",
        "n_classes = 10\n",
        "print(\"Shape before one-hot encoding: \", y_train.shape)\n",
        "Y_train = np_utils.to_categorical(y_train, n_classes)\n",
        "Y_test = np_utils.to_categorical(y_test, n_classes)\n",
        "print(\"Shape after one-hot encoding: \", Y_train.shape)"
      ],
      "execution_count": null,
      "outputs": [
        {
          "output_type": "stream",
          "text": [
            "Shape before one-hot encoding:  (60000,)\n",
            "Shape after one-hot encoding:  (60000, 10)\n"
          ],
          "name": "stdout"
        }
      ]
    },
    {
      "cell_type": "code",
      "metadata": {
        "id": "shZRENwx2qnk"
      },
      "source": [
        "# building a linear stack of layers with the sequential model\n",
        "model = Sequential()\n",
        "# convolutional layer\n",
        "model.add(Conv2D(25, kernel_size=(3,3), strides=(1,1), padding='valid', activation='relu', input_shape=(28,28,1)))\n",
        "model.add(MaxPool2D(pool_size=(1,1)))\n",
        "# flatten output of conv\n",
        "model.add(Flatten())\n",
        "# hidden layer\n",
        "model.add(Dense(100, activation='relu'))\n",
        "# output layer\n",
        "model.add(Dense(10, activation='softmax'))"
      ],
      "execution_count": null,
      "outputs": []
    },
    {
      "cell_type": "code",
      "metadata": {
        "id": "hvsmO_Hm2tRV"
      },
      "source": [
        "# compiling the sequential model\n",
        "model.compile(loss='categorical_crossentropy', metrics=['accuracy'], optimizer='adam')"
      ],
      "execution_count": null,
      "outputs": []
    },
    {
      "cell_type": "code",
      "metadata": {
        "colab": {
          "base_uri": "https://localhost:8080/"
        },
        "id": "72SEp0Gf2wek",
        "outputId": "d2921b77-67fb-40c8-a167-7cebf899f3f0"
      },
      "source": [
        "# training the model for 10 epochs\n",
        "model.fit(X_train, Y_train, batch_size=128, epochs=10, validation_data=(X_test, Y_test))"
      ],
      "execution_count": null,
      "outputs": [
        {
          "output_type": "stream",
          "text": [
            "Epoch 1/10\n",
            "469/469 [==============================] - 44s 91ms/step - loss: 0.3851 - accuracy: 0.8858 - val_loss: 0.0913 - val_accuracy: 0.9703\n",
            "Epoch 2/10\n",
            "469/469 [==============================] - 42s 90ms/step - loss: 0.0719 - accuracy: 0.9785 - val_loss: 0.0607 - val_accuracy: 0.9796\n",
            "Epoch 3/10\n",
            "469/469 [==============================] - 42s 90ms/step - loss: 0.0374 - accuracy: 0.9894 - val_loss: 0.0546 - val_accuracy: 0.9817\n",
            "Epoch 4/10\n",
            "469/469 [==============================] - 42s 89ms/step - loss: 0.0244 - accuracy: 0.9926 - val_loss: 0.0502 - val_accuracy: 0.9829\n",
            "Epoch 5/10\n",
            "469/469 [==============================] - 42s 90ms/step - loss: 0.0150 - accuracy: 0.9955 - val_loss: 0.0519 - val_accuracy: 0.9841\n",
            "Epoch 6/10\n",
            "469/469 [==============================] - 43s 91ms/step - loss: 0.0090 - accuracy: 0.9977 - val_loss: 0.0558 - val_accuracy: 0.9846\n",
            "Epoch 7/10\n",
            "469/469 [==============================] - 43s 93ms/step - loss: 0.0054 - accuracy: 0.9987 - val_loss: 0.0620 - val_accuracy: 0.9827\n",
            "Epoch 8/10\n",
            "469/469 [==============================] - 44s 93ms/step - loss: 0.0032 - accuracy: 0.9996 - val_loss: 0.0533 - val_accuracy: 0.9850\n",
            "Epoch 9/10\n",
            "469/469 [==============================] - 44s 93ms/step - loss: 0.0032 - accuracy: 0.9992 - val_loss: 0.0656 - val_accuracy: 0.9822\n",
            "Epoch 10/10\n",
            "469/469 [==============================] - 44s 93ms/step - loss: 0.0034 - accuracy: 0.9992 - val_loss: 0.0649 - val_accuracy: 0.9845\n"
          ],
          "name": "stdout"
        },
        {
          "output_type": "execute_result",
          "data": {
            "text/plain": [
              "<tensorflow.python.keras.callbacks.History at 0x7f4724276b50>"
            ]
          },
          "metadata": {
            "tags": []
          },
          "execution_count": 9
        }
      ]
    }
  ]
}