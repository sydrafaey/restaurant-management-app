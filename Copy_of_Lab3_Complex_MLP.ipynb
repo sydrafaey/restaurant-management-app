{
  "nbformat": 4,
  "nbformat_minor": 0,
  "metadata": {
    "colab": {
      "name": "Copy of Lab3-Complex MLP.ipynb",
      "provenance": [],
      "collapsed_sections": [],
      "include_colab_link": true
    },
    "kernelspec": {
      "name": "python3",
      "display_name": "Python 3"
    },
    "language_info": {
      "name": "python"
    }
  },
  "cells": [
    {
      "cell_type": "markdown",
      "metadata": {
        "id": "view-in-github",
        "colab_type": "text"
      },
      "source": [
        "<a href=\"https://colab.research.google.com/github/sydrafaey/restaurant-management-app/blob/main/Copy_of_Lab3_Complex_MLP.ipynb\" target=\"_parent\"><img src=\"https://colab.research.google.com/assets/colab-badge.svg\" alt=\"Open In Colab\"/></a>"
      ]
    },
    {
      "cell_type": "code",
      "metadata": {
        "id": "hjDLLS7Y820k"
      },
      "source": [
        "from sklearn.datasets import fetch_california_housing\n",
        "from sklearn.model_selection import train_test_split\n",
        "from sklearn.preprocessing import StandardScaler"
      ],
      "execution_count": null,
      "outputs": []
    },
    {
      "cell_type": "code",
      "metadata": {
        "id": "MKsC-Cb-9G7P"
      },
      "source": [
        "# TensorFlow and tf.keras\n",
        "import tensorflow as tf\n",
        "from tensorflow import keras"
      ],
      "execution_count": null,
      "outputs": []
    },
    {
      "cell_type": "code",
      "metadata": {
        "id": "4eCF4h8h872R",
        "colab": {
          "base_uri": "https://localhost:8080/"
        },
        "outputId": "618c95ca-7a66-4d4a-b800-06b37fa5aea4"
      },
      "source": [
        "housing = fetch_california_housing() # loading the California Housing dataset"
      ],
      "execution_count": null,
      "outputs": [
        {
          "output_type": "stream",
          "text": [
            "Downloading Cal. housing from https://ndownloader.figshare.com/files/5976036 to /root/scikit_learn_data\n"
          ],
          "name": "stderr"
        }
      ]
    },
    {
      "cell_type": "code",
      "metadata": {
        "id": "wTQiZZLh8_HH"
      },
      "source": [
        "X_train_full, X_test, y_train_full, y_test = train_test_split(housing.data, housing.target) # test and train\n",
        "X_train, X_valid, y_train, y_valid = train_test_split(X_train_full, y_train_full)  # training and validation"
      ],
      "execution_count": null,
      "outputs": []
    },
    {
      "cell_type": "code",
      "metadata": {
        "id": "olLnD00T9Bpm"
      },
      "source": [
        "scaler = StandardScaler()  # Using the StandardScaler to scale the dataset\n",
        "X_train = scaler.fit_transform(X_train)\n",
        "X_valid = scaler.transform(X_valid)\n",
        "X_test = scaler.transform(X_test)"
      ],
      "execution_count": null,
      "outputs": []
    },
    {
      "cell_type": "code",
      "metadata": {
        "colab": {
          "base_uri": "https://localhost:8080/"
        },
        "id": "NTrdYBMMFmBM",
        "outputId": "0b0607a8-76fc-48f1-bbc1-3437e8787e05"
      },
      "source": [
        "X_train.shape, X_valid.shape, X_test.shape  #20640 instances"
      ],
      "execution_count": null,
      "outputs": [
        {
          "output_type": "execute_result",
          "data": {
            "text/plain": [
              "((11610, 8), (3870, 8), (5160, 8))"
            ]
          },
          "metadata": {
            "tags": []
          },
          "execution_count": 8
        }
      ]
    },
    {
      "cell_type": "code",
      "metadata": {
        "id": "uDVrtefL6Dn_"
      },
      "source": [
        "# Defining the layers\n",
        "\n",
        "input_ = keras.layers.Input(shape=X_train.shape[1:])\n",
        "hidden1 = keras.layers.Dense(30, activation=\"relu\")(input_)\n",
        "hidden2 = keras.layers.Dense(30, activation=\"relu\")(hidden1)\n",
        "concat = keras.layers.concatenate([input_, hidden2]) # concatenate inputs\n",
        "output = keras.layers.Dense(1)(concat)\n",
        "model = keras.models.Model(inputs=[input_], outputs=[output])"
      ],
      "execution_count": null,
      "outputs": []
    },
    {
      "cell_type": "code",
      "metadata": {
        "colab": {
          "base_uri": "https://localhost:8080/"
        },
        "id": "1zJSPBrL6Hhy",
        "outputId": "2712eec6-e7c7-4173-de2f-6a81d92e87f5"
      },
      "source": [
        "model.summary() # generating model summary"
      ],
      "execution_count": null,
      "outputs": [
        {
          "output_type": "stream",
          "text": [
            "Model: \"model\"\n",
            "__________________________________________________________________________________________________\n",
            "Layer (type)                    Output Shape         Param #     Connected to                     \n",
            "==================================================================================================\n",
            "input_1 (InputLayer)            [(None, 8)]          0                                            \n",
            "__________________________________________________________________________________________________\n",
            "dense (Dense)                   (None, 30)           270         input_1[0][0]                    \n",
            "__________________________________________________________________________________________________\n",
            "dense_1 (Dense)                 (None, 30)           930         dense[0][0]                      \n",
            "__________________________________________________________________________________________________\n",
            "concatenate (Concatenate)       (None, 38)           0           input_1[0][0]                    \n",
            "                                                                 dense_1[0][0]                    \n",
            "__________________________________________________________________________________________________\n",
            "dense_2 (Dense)                 (None, 1)            39          concatenate[0][0]                \n",
            "==================================================================================================\n",
            "Total params: 1,239\n",
            "Trainable params: 1,239\n",
            "Non-trainable params: 0\n",
            "__________________________________________________________________________________________________\n"
          ],
          "name": "stdout"
        }
      ]
    },
    {
      "cell_type": "code",
      "metadata": {
        "colab": {
          "base_uri": "https://localhost:8080/"
        },
        "id": "z-yMCO-Q6KGw",
        "outputId": "fbc0d238-d66e-4834-d69c-af36011f6e34"
      },
      "source": [
        "model.compile(loss=\"mean_squared_error\", optimizer=keras.optimizers.SGD(lr=1e-3)) # compile model\n",
        "history = model.fit(X_train, y_train, epochs=20,\n",
        "                    validation_data=(X_valid, y_valid)) # fit model\n",
        "mse_test = model.evaluate(X_test, y_test) # evaluate model"
      ],
      "execution_count": null,
      "outputs": [
        {
          "output_type": "stream",
          "text": [
            "Epoch 1/20\n",
            "363/363 [==============================] - 1s 2ms/step - loss: 3.3771 - val_loss: 0.7251\n",
            "Epoch 2/20\n",
            "363/363 [==============================] - 0s 1ms/step - loss: 0.6838 - val_loss: 0.6151\n",
            "Epoch 3/20\n",
            "363/363 [==============================] - 0s 1ms/step - loss: 0.6253 - val_loss: 0.5820\n",
            "Epoch 4/20\n",
            "363/363 [==============================] - 0s 1ms/step - loss: 0.6074 - val_loss: 0.5652\n",
            "Epoch 5/20\n",
            "363/363 [==============================] - 0s 1ms/step - loss: 0.6033 - val_loss: 0.5450\n",
            "Epoch 6/20\n",
            "363/363 [==============================] - 0s 1ms/step - loss: 0.5860 - val_loss: 0.5313\n",
            "Epoch 7/20\n",
            "363/363 [==============================] - 0s 1ms/step - loss: 0.5464 - val_loss: 0.5207\n",
            "Epoch 8/20\n",
            "363/363 [==============================] - 0s 1ms/step - loss: 0.5250 - val_loss: 0.5135\n",
            "Epoch 9/20\n",
            "363/363 [==============================] - 0s 1ms/step - loss: 0.5357 - val_loss: 0.5064\n",
            "Epoch 10/20\n",
            "363/363 [==============================] - 0s 1ms/step - loss: 0.5227 - val_loss: 0.4983\n",
            "Epoch 11/20\n",
            "363/363 [==============================] - 0s 1ms/step - loss: 0.5137 - val_loss: 0.4972\n",
            "Epoch 12/20\n",
            "363/363 [==============================] - 0s 1ms/step - loss: 0.5109 - val_loss: 0.4878\n",
            "Epoch 13/20\n",
            "363/363 [==============================] - 0s 1ms/step - loss: 0.4916 - val_loss: 0.4849\n",
            "Epoch 14/20\n",
            "363/363 [==============================] - 0s 1ms/step - loss: 0.4794 - val_loss: 0.4794\n",
            "Epoch 15/20\n",
            "363/363 [==============================] - 0s 1ms/step - loss: 0.5020 - val_loss: 0.4718\n",
            "Epoch 16/20\n",
            "363/363 [==============================] - 1s 1ms/step - loss: 0.4950 - val_loss: 0.4761\n",
            "Epoch 17/20\n",
            "363/363 [==============================] - 1s 1ms/step - loss: 0.4897 - val_loss: 0.4676\n",
            "Epoch 18/20\n",
            "363/363 [==============================] - 1s 1ms/step - loss: 0.4870 - val_loss: 0.4619\n",
            "Epoch 19/20\n",
            "363/363 [==============================] - 1s 1ms/step - loss: 0.4653 - val_loss: 0.4577\n",
            "Epoch 20/20\n",
            "363/363 [==============================] - 1s 1ms/step - loss: 0.4674 - val_loss: 0.4539\n",
            "162/162 [==============================] - 0s 1ms/step - loss: 0.4269\n"
          ],
          "name": "stdout"
        }
      ]
    },
    {
      "cell_type": "code",
      "metadata": {
        "id": "Ul60JVEx6NBf"
      },
      "source": [
        "y_pred = model.predict(X_test) # predict using the model"
      ],
      "execution_count": null,
      "outputs": []
    },
    {
      "cell_type": "code",
      "metadata": {
        "colab": {
          "base_uri": "https://localhost:8080/"
        },
        "id": "gX9L2eA_6PED",
        "outputId": "290b733c-0bd1-4fbf-ba40-c4f9f7dcd8f1"
      },
      "source": [
        "\n",
        "y_pred"
      ],
      "execution_count": null,
      "outputs": [
        {
          "output_type": "execute_result",
          "data": {
            "text/plain": [
              "array([[1.5787814 ],\n",
              "       [1.6025834 ],\n",
              "       [0.32229838],\n",
              "       ...,\n",
              "       [2.2372122 ],\n",
              "       [2.3481624 ],\n",
              "       [0.9988603 ]], dtype=float32)"
            ]
          },
          "metadata": {
            "tags": []
          },
          "execution_count": 13
        }
      ]
    },
    {
      "cell_type": "code",
      "metadata": {
        "id": "F5VfRg-_6WMO"
      },
      "source": [
        "# creating the model using different number of layers\n",
        "\n",
        "input_A = keras.layers.Input(shape=[5], name=\"wide_input\")\n",
        "input_B = keras.layers.Input(shape=[6], name=\"deep_input\")\n",
        "hidden1 = keras.layers.Dense(30, activation=\"relu\")(input_B)\n",
        "hidden2 = keras.layers.Dense(30, activation=\"relu\")(hidden1)\n",
        "concat = keras.layers.concatenate([input_A, hidden2]) # concatenate inputs\n",
        "output = keras.layers.Dense(1, name=\"output\")(concat)\n",
        "model = keras.models.Model(inputs=[input_A, input_B], outputs=[output])"
      ],
      "execution_count": null,
      "outputs": []
    },
    {
      "cell_type": "code",
      "metadata": {
        "id": "kI0aDLu_5QKV",
        "colab": {
          "base_uri": "https://localhost:8080/"
        },
        "outputId": "17858e16-d50d-4e1c-e5f9-e31d02bad992"
      },
      "source": [
        "X_train.shape"
      ],
      "execution_count": null,
      "outputs": [
        {
          "output_type": "execute_result",
          "data": {
            "text/plain": [
              "(11610, 8)"
            ]
          },
          "metadata": {
            "tags": []
          },
          "execution_count": 15
        }
      ]
    },
    {
      "cell_type": "code",
      "metadata": {
        "colab": {
          "base_uri": "https://localhost:8080/"
        },
        "id": "OE48Qmh06krU",
        "outputId": "666dfaf7-545a-4d2b-f603-5556acdd2216"
      },
      "source": [
        "[1,2,3,4,5,6,7,8][2:]"
      ],
      "execution_count": null,
      "outputs": [
        {
          "output_type": "execute_result",
          "data": {
            "text/plain": [
              "[3, 4, 5, 6, 7, 8]"
            ]
          },
          "metadata": {
            "tags": []
          },
          "execution_count": 16
        }
      ]
    },
    {
      "cell_type": "code",
      "metadata": {
        "colab": {
          "base_uri": "https://localhost:8080/"
        },
        "id": "CfUiMfIO6nqN",
        "outputId": "a2c81ecd-7d81-49de-ca90-49f7a3157735"
      },
      "source": [
        "model.compile(loss=\"mse\", optimizer=keras.optimizers.SGD(lr=1e-3)) # compile the model\n",
        "\n",
        "X_train_A, X_train_B = X_train[:, :5], X_train[:, 2:] #all rows first 5 columns, all rows and from 3rd column onwards\n",
        "X_valid_A, X_valid_B = X_valid[:, :5], X_valid[:, 2:]\n",
        "X_test_A, X_test_B = X_test[:, :5], X_test[:, 2:]\n",
        "X_new_A, X_new_B = X_test_A[:3], X_test_B[:3]\n",
        "\n",
        "history = model.fit((X_train_A, X_train_B), y_train, epochs=20,\n",
        "                    validation_data=((X_valid_A, X_valid_B), y_valid))\n",
        "mse_test = model.evaluate((X_test_A, X_test_B), y_test)\n",
        "y_pred = model.predict((X_new_A, X_new_B))"
      ],
      "execution_count": null,
      "outputs": [
        {
          "output_type": "stream",
          "text": [
            "Epoch 1/20\n",
            "363/363 [==============================] - 1s 2ms/step - loss: 3.1974 - val_loss: 0.9994\n",
            "Epoch 2/20\n",
            "363/363 [==============================] - 0s 1ms/step - loss: 0.9139 - val_loss: 0.7650\n",
            "Epoch 3/20\n",
            "363/363 [==============================] - 0s 1ms/step - loss: 0.7416 - val_loss: 0.6839\n",
            "Epoch 4/20\n",
            "363/363 [==============================] - 0s 1ms/step - loss: 0.6788 - val_loss: 0.6336\n",
            "Epoch 5/20\n",
            "363/363 [==============================] - 0s 1ms/step - loss: 0.6424 - val_loss: 0.6041\n",
            "Epoch 6/20\n",
            "363/363 [==============================] - 0s 1ms/step - loss: 0.6214 - val_loss: 0.5797\n",
            "Epoch 7/20\n",
            "363/363 [==============================] - 0s 1ms/step - loss: 0.5662 - val_loss: 0.5529\n",
            "Epoch 8/20\n",
            "363/363 [==============================] - 0s 1ms/step - loss: 0.5549 - val_loss: 0.5425\n",
            "Epoch 9/20\n",
            "363/363 [==============================] - 0s 1ms/step - loss: 0.5614 - val_loss: 0.5252\n",
            "Epoch 10/20\n",
            "363/363 [==============================] - 0s 1ms/step - loss: 0.5111 - val_loss: 0.5120\n",
            "Epoch 11/20\n",
            "363/363 [==============================] - 0s 1ms/step - loss: 0.5353 - val_loss: 0.5017\n",
            "Epoch 12/20\n",
            "363/363 [==============================] - 0s 1ms/step - loss: 0.5078 - val_loss: 0.4907\n",
            "Epoch 13/20\n",
            "363/363 [==============================] - 0s 1ms/step - loss: 0.4907 - val_loss: 0.4845\n",
            "Epoch 14/20\n",
            "363/363 [==============================] - 0s 1ms/step - loss: 0.4975 - val_loss: 0.4792\n",
            "Epoch 15/20\n",
            "363/363 [==============================] - 0s 1ms/step - loss: 0.4768 - val_loss: 0.4697\n",
            "Epoch 16/20\n",
            "363/363 [==============================] - 0s 1ms/step - loss: 0.4785 - val_loss: 0.4672\n",
            "Epoch 17/20\n",
            "363/363 [==============================] - 0s 1ms/step - loss: 0.4727 - val_loss: 0.4614\n",
            "Epoch 18/20\n",
            "363/363 [==============================] - 0s 1ms/step - loss: 0.4906 - val_loss: 0.4571\n",
            "Epoch 19/20\n",
            "363/363 [==============================] - 0s 1ms/step - loss: 0.4783 - val_loss: 0.4535\n",
            "Epoch 20/20\n",
            "363/363 [==============================] - 0s 1ms/step - loss: 0.4593 - val_loss: 0.4509\n",
            "162/162 [==============================] - 0s 865us/step - loss: 0.4211\n"
          ],
          "name": "stdout"
        }
      ]
    },
    {
      "cell_type": "code",
      "metadata": {
        "id": "z3Tz81U56tHd"
      },
      "source": [
        "input_A = keras.layers.Input(shape=[5], name=\"wide_input\")\n",
        "input_B = keras.layers.Input(shape=[6], name=\"deep_input\")\n",
        "hidden1 = keras.layers.Dense(30, activation=\"relu\")(input_B)\n",
        "hidden2 = keras.layers.Dense(30, activation=\"relu\")(hidden1)\n",
        "concat = keras.layers.concatenate([input_A, hidden2]) # concatenate the inputs\n",
        "output = keras.layers.Dense(1, name=\"main_output\")(concat)\n",
        "aux_output = keras.layers.Dense(1, name=\"aux_output\")(hidden2) # aux output for regularization, multi output neural network\n",
        "model = keras.models.Model(inputs=[input_A, input_B],\n",
        "                           outputs=[output, aux_output])"
      ],
      "execution_count": null,
      "outputs": []
    },
    {
      "cell_type": "code",
      "metadata": {
        "id": "5wMPoKcX6whu"
      },
      "source": [
        "model.compile(loss=[\"mse\", \"mse\"], loss_weights=[0.9, 0.1], optimizer=keras.optimizers.SGD(lr=1e-3)) # compile the model, its learning rate = 10 to power -3 i.e 0.001"
      ],
      "execution_count": null,
      "outputs": []
    },
    {
      "cell_type": "code",
      "metadata": {
        "colab": {
          "base_uri": "https://localhost:8080/"
        },
        "id": "-m02WW_n6yMo",
        "outputId": "cd24cb4c-79d0-4a08-be92-619eb0444ffc"
      },
      "source": [
        "\n",
        "history = model.fit([X_train_A, X_train_B], [y_train, y_train], epochs=20,\n",
        "                    validation_data=([X_valid_A, X_valid_B], [y_valid, y_valid])) # fit the model"
      ],
      "execution_count": null,
      "outputs": [
        {
          "output_type": "stream",
          "text": [
            "Epoch 1/20\n",
            "363/363 [==============================] - 1s 2ms/step - loss: 3.7167 - main_output_loss: 3.5661 - aux_output_loss: 5.0729 - val_loss: 1.1127 - val_main_output_loss: 0.8433 - val_aux_output_loss: 3.5374\n",
            "Epoch 2/20\n",
            "363/363 [==============================] - 1s 2ms/step - loss: 1.0354 - main_output_loss: 0.7839 - aux_output_loss: 3.2988 - val_loss: 0.8724 - val_main_output_loss: 0.6952 - val_aux_output_loss: 2.4676\n",
            "Epoch 3/20\n",
            "363/363 [==============================] - 1s 2ms/step - loss: 0.8844 - main_output_loss: 0.7076 - aux_output_loss: 2.4755 - val_loss: 0.7821 - val_main_output_loss: 0.6490 - val_aux_output_loss: 1.9806\n",
            "Epoch 4/20\n",
            "363/363 [==============================] - 1s 2ms/step - loss: 0.7782 - main_output_loss: 0.6462 - aux_output_loss: 1.9657 - val_loss: 0.7345 - val_main_output_loss: 0.6225 - val_aux_output_loss: 1.7420\n",
            "Epoch 5/20\n",
            "363/363 [==============================] - 1s 1ms/step - loss: 0.7304 - main_output_loss: 0.6154 - aux_output_loss: 1.7659 - val_loss: 0.7018 - val_main_output_loss: 0.6011 - val_aux_output_loss: 1.6080\n",
            "Epoch 6/20\n",
            "363/363 [==============================] - 1s 2ms/step - loss: 0.6983 - main_output_loss: 0.5908 - aux_output_loss: 1.6659 - val_loss: 0.6762 - val_main_output_loss: 0.5824 - val_aux_output_loss: 1.5202\n",
            "Epoch 7/20\n",
            "363/363 [==============================] - 1s 1ms/step - loss: 0.6829 - main_output_loss: 0.5877 - aux_output_loss: 1.5402 - val_loss: 0.6533 - val_main_output_loss: 0.5644 - val_aux_output_loss: 1.4529\n",
            "Epoch 8/20\n",
            "363/363 [==============================] - 1s 2ms/step - loss: 0.6750 - main_output_loss: 0.5817 - aux_output_loss: 1.5148 - val_loss: 0.6350 - val_main_output_loss: 0.5493 - val_aux_output_loss: 1.4059\n",
            "Epoch 9/20\n",
            "363/363 [==============================] - 1s 2ms/step - loss: 0.6412 - main_output_loss: 0.5540 - aux_output_loss: 1.4260 - val_loss: 0.6177 - val_main_output_loss: 0.5350 - val_aux_output_loss: 1.3627\n",
            "Epoch 10/20\n",
            "363/363 [==============================] - 1s 2ms/step - loss: 0.6265 - main_output_loss: 0.5429 - aux_output_loss: 1.3795 - val_loss: 0.6042 - val_main_output_loss: 0.5239 - val_aux_output_loss: 1.3265\n",
            "Epoch 11/20\n",
            "363/363 [==============================] - 1s 2ms/step - loss: 0.6046 - main_output_loss: 0.5220 - aux_output_loss: 1.3481 - val_loss: 0.5923 - val_main_output_loss: 0.5142 - val_aux_output_loss: 1.2952\n",
            "Epoch 12/20\n",
            "363/363 [==============================] - 1s 2ms/step - loss: 0.6146 - main_output_loss: 0.5321 - aux_output_loss: 1.3564 - val_loss: 0.5809 - val_main_output_loss: 0.5046 - val_aux_output_loss: 1.2679\n",
            "Epoch 13/20\n",
            "363/363 [==============================] - 1s 2ms/step - loss: 0.5734 - main_output_loss: 0.4934 - aux_output_loss: 1.2936 - val_loss: 0.5720 - val_main_output_loss: 0.4974 - val_aux_output_loss: 1.2441\n",
            "Epoch 14/20\n",
            "363/363 [==============================] - 1s 1ms/step - loss: 0.5742 - main_output_loss: 0.4972 - aux_output_loss: 1.2677 - val_loss: 0.5630 - val_main_output_loss: 0.4900 - val_aux_output_loss: 1.2200\n",
            "Epoch 15/20\n",
            "363/363 [==============================] - 1s 2ms/step - loss: 0.5791 - main_output_loss: 0.5054 - aux_output_loss: 1.2430 - val_loss: 0.5568 - val_main_output_loss: 0.4854 - val_aux_output_loss: 1.1990\n",
            "Epoch 16/20\n",
            "363/363 [==============================] - 1s 2ms/step - loss: 0.5705 - main_output_loss: 0.4999 - aux_output_loss: 1.2054 - val_loss: 0.5485 - val_main_output_loss: 0.4788 - val_aux_output_loss: 1.1759\n",
            "Epoch 17/20\n",
            "363/363 [==============================] - 1s 2ms/step - loss: 0.5671 - main_output_loss: 0.4928 - aux_output_loss: 1.2358 - val_loss: 0.5412 - val_main_output_loss: 0.4728 - val_aux_output_loss: 1.1566\n",
            "Epoch 18/20\n",
            "363/363 [==============================] - 1s 1ms/step - loss: 0.5554 - main_output_loss: 0.4865 - aux_output_loss: 1.1761 - val_loss: 0.5350 - val_main_output_loss: 0.4682 - val_aux_output_loss: 1.1364\n",
            "Epoch 19/20\n",
            "363/363 [==============================] - 1s 2ms/step - loss: 0.5536 - main_output_loss: 0.4844 - aux_output_loss: 1.1766 - val_loss: 0.5315 - val_main_output_loss: 0.4662 - val_aux_output_loss: 1.1193\n",
            "Epoch 20/20\n",
            "363/363 [==============================] - 1s 1ms/step - loss: 0.5467 - main_output_loss: 0.4773 - aux_output_loss: 1.1720 - val_loss: 0.5254 - val_main_output_loss: 0.4615 - val_aux_output_loss: 1.1012\n"
          ],
          "name": "stdout"
        }
      ]
    },
    {
      "cell_type": "code",
      "metadata": {
        "colab": {
          "base_uri": "https://localhost:8080/"
        },
        "id": "rTeeTCa261Rk",
        "outputId": "9bc0ed1a-22ec-4561-efa3-2467b7bdbfbb"
      },
      "source": [
        "total_loss, main_loss, aux_loss = model.evaluate(\n",
        "    [X_test_A, X_test_B], [y_test, y_test])\n",
        "y_pred_main, y_pred_aux = model.predict([X_new_A, X_new_B]) # predicting using aux layer"
      ],
      "execution_count": null,
      "outputs": [
        {
          "output_type": "stream",
          "text": [
            "162/162 [==============================] - 0s 1ms/step - loss: 0.5059 - main_output_loss: 0.4393 - aux_output_loss: 1.1052\n"
          ],
          "name": "stdout"
        }
      ]
    },
    {
      "cell_type": "code",
      "metadata": {
        "id": "Mm7v-hycmnkm"
      },
      "source": [
        "y_pred_main, y_pred_aux=model.predict([X_new_A,X_new_B])"
      ],
      "execution_count": null,
      "outputs": []
    },
    {
      "cell_type": "code",
      "metadata": {
        "id": "Wo2OHlwlY52c",
        "colab": {
          "base_uri": "https://localhost:8080/"
        },
        "outputId": "ab3d01b7-6ac0-4983-944f-ee16a2cb459e"
      },
      "source": [
        "y_pred_main, y_pred_aux"
      ],
      "execution_count": null,
      "outputs": [
        {
          "output_type": "execute_result",
          "data": {
            "text/plain": [
              "(array([[1.3730056 ],\n",
              "        [1.2970666 ],\n",
              "        [0.61311245]], dtype=float32), array([[2.55859  ],\n",
              "        [2.0124788],\n",
              "        [2.1081274]], dtype=float32))"
            ]
          },
          "metadata": {
            "tags": []
          },
          "execution_count": 23
        }
      ]
    }
  ]
}