{
  "nbformat": 4,
  "nbformat_minor": 0,
  "metadata": {
    "colab": {
      "name": "Copy of Lab5-Transfer Learning_using_Pretrained_Layers_.ipynb",
      "provenance": [],
      "collapsed_sections": [],
      "include_colab_link": true
    },
    "kernelspec": {
      "name": "python3",
      "display_name": "Python 3"
    },
    "language_info": {
      "name": "python"
    }
  },
  "cells": [
    {
      "cell_type": "markdown",
      "metadata": {
        "id": "view-in-github",
        "colab_type": "text"
      },
      "source": [
        "<a href=\"https://colab.research.google.com/github/sydrafaey/restaurant-management-app/blob/main/Copy_of_Lab5_Transfer_Learning_using_Pretrained_Layers_.ipynb\" target=\"_parent\"><img src=\"https://colab.research.google.com/assets/colab-badge.svg\" alt=\"Open In Colab\"/></a>"
      ]
    },
    {
      "cell_type": "markdown",
      "metadata": {
        "id": "RtES1kZR1QXe"
      },
      "source": [
        "Reusing Pretrained Layers\n",
        "\n",
        "Reusing a Keras model\n",
        "Let's split the fashion MNIST training set in two:\n",
        "\n",
        "X_train_A: all images of all items except for sandals and shirts (classes 5 and 6).\n",
        "\n",
        "X_train_B: a much smaller training set of just the first 200 images of sandals or shirts.\n",
        "\n",
        "The validation set and the test set are also split, but without restricting the number of images.\n",
        "\n",
        "We will train a model on set A (classification task with 8 classes), and try to reuse it to tackle set B (binary classification). We hope to transfer a little bit of knowledge from task A to task B, since classes in set A (sneakers, ankle boots, coats, t-shirts, etc.) are somewhat similar to classes in set B (sandals and shirts). However, since we are using Dense layers, only patterns that occur at the same location can be reused."
      ]
    },
    {
      "cell_type": "markdown",
      "metadata": {
        "id": "g17hj4lQZMYO"
      },
      "source": [
        "Load all necessary libraries"
      ]
    },
    {
      "cell_type": "code",
      "metadata": {
        "id": "hoF_uZ_21Pdt"
      },
      "source": [
        "import tensorflow as tf\n",
        "from tensorflow import keras\n",
        "import numpy as np"
      ],
      "execution_count": null,
      "outputs": []
    },
    {
      "cell_type": "code",
      "metadata": {
        "id": "uf1W5wIz--ym",
        "colab": {
          "base_uri": "https://localhost:8080/"
        },
        "outputId": "617a2b2e-e3e9-473a-a0dd-85327eb557fa"
      },
      "source": [
        "# loading the Fashion-MNIST dataset\n",
        "(X_train_full, y_train_full), (X_test, y_test) = keras.datasets.fashion_mnist.load_data()"
      ],
      "execution_count": null,
      "outputs": [
        {
          "output_type": "stream",
          "text": [
            "Downloading data from https://storage.googleapis.com/tensorflow/tf-keras-datasets/train-labels-idx1-ubyte.gz\n",
            "32768/29515 [=================================] - 0s 0us/step\n",
            "Downloading data from https://storage.googleapis.com/tensorflow/tf-keras-datasets/train-images-idx3-ubyte.gz\n",
            "26427392/26421880 [==============================] - 0s 0us/step\n",
            "Downloading data from https://storage.googleapis.com/tensorflow/tf-keras-datasets/t10k-labels-idx1-ubyte.gz\n",
            "8192/5148 [===============================================] - 0s 0us/step\n",
            "Downloading data from https://storage.googleapis.com/tensorflow/tf-keras-datasets/t10k-images-idx3-ubyte.gz\n",
            "4423680/4422102 [==============================] - 0s 0us/step\n"
          ],
          "name": "stdout"
        }
      ]
    },
    {
      "cell_type": "code",
      "metadata": {
        "colab": {
          "base_uri": "https://localhost:8080/"
        },
        "id": "6H_rxDzUQdev",
        "outputId": "39ef72b9-8966-4251-cdb3-c642e38d699f"
      },
      "source": [
        "len(X_train_full)"
      ],
      "execution_count": null,
      "outputs": [
        {
          "output_type": "execute_result",
          "data": {
            "text/plain": [
              "60000"
            ]
          },
          "metadata": {
            "tags": []
          },
          "execution_count": 3
        }
      ]
    },
    {
      "cell_type": "code",
      "metadata": {
        "colab": {
          "base_uri": "https://localhost:8080/"
        },
        "id": "_Brh0XA2RS4g",
        "outputId": "e632c456-7776-4f8d-a7d3-5e7ba4742cac"
      },
      "source": [
        "len(X_test)"
      ],
      "execution_count": null,
      "outputs": [
        {
          "output_type": "execute_result",
          "data": {
            "text/plain": [
              "10000"
            ]
          },
          "metadata": {
            "tags": []
          },
          "execution_count": 4
        }
      ]
    },
    {
      "cell_type": "code",
      "metadata": {
        "id": "ZZd03oRjvraN"
      },
      "source": [
        "# trim the data \n",
        "X_train_full = X_train_full[:30000]\n",
        "y_train_full = y_train_full[:30000]\n",
        "\n",
        "X_test = X_test[:5000]\n",
        "y_test = y_test[:5000]\n",
        "\n",
        "# scaling the dataset\n",
        "X_train_full = X_train_full / 255.0\n",
        "X_test = X_test / 255.0\n",
        "\n",
        "# dividing the dataset into training and validation set\n",
        "X_valid, X_train = X_train_full[:5000], X_train_full[5000:]\n",
        "y_valid, y_train = y_train_full[:5000], y_train_full[5000:]"
      ],
      "execution_count": null,
      "outputs": []
    },
    {
      "cell_type": "code",
      "metadata": {
        "colab": {
          "base_uri": "https://localhost:8080/"
        },
        "id": "9v0VlUZx-hod",
        "outputId": "b240da37-ece1-4616-8973-851f100d05d9"
      },
      "source": [
        "len(X_train_full)"
      ],
      "execution_count": null,
      "outputs": [
        {
          "output_type": "execute_result",
          "data": {
            "text/plain": [
              "30000"
            ]
          },
          "metadata": {
            "tags": []
          },
          "execution_count": 7
        }
      ]
    },
    {
      "cell_type": "code",
      "metadata": {
        "colab": {
          "base_uri": "https://localhost:8080/"
        },
        "id": "P8uObEDIRbDx",
        "outputId": "528b9805-7b60-4b53-e856-d4585c5e63b2"
      },
      "source": [
        "len(X_valid)"
      ],
      "execution_count": null,
      "outputs": [
        {
          "output_type": "execute_result",
          "data": {
            "text/plain": [
              "5000"
            ]
          },
          "metadata": {
            "tags": []
          },
          "execution_count": 7
        }
      ]
    },
    {
      "cell_type": "code",
      "metadata": {
        "colab": {
          "base_uri": "https://localhost:8080/"
        },
        "id": "gbBl9bm8Rf-R",
        "outputId": "6cdf9b0f-0169-425b-dfad-5d1a31ce9675"
      },
      "source": [
        "len(X_train)"
      ],
      "execution_count": null,
      "outputs": [
        {
          "output_type": "execute_result",
          "data": {
            "text/plain": [
              "25000"
            ]
          },
          "metadata": {
            "tags": []
          },
          "execution_count": 8
        }
      ]
    },
    {
      "cell_type": "code",
      "metadata": {
        "colab": {
          "base_uri": "https://localhost:8080/"
        },
        "id": "9JjUsk30Rkrv",
        "outputId": "a0f42d02-24cb-4229-ec6f-de1485b449f5"
      },
      "source": [
        "X_train_full"
      ],
      "execution_count": null,
      "outputs": [
        {
          "output_type": "execute_result",
          "data": {
            "text/plain": [
              "array([[[0.        , 0.        , 0.        , ..., 0.        ,\n",
              "         0.        , 0.        ],\n",
              "        [0.        , 0.        , 0.        , ..., 0.        ,\n",
              "         0.        , 0.        ],\n",
              "        [0.        , 0.        , 0.        , ..., 0.        ,\n",
              "         0.        , 0.        ],\n",
              "        ...,\n",
              "        [0.        , 0.        , 0.        , ..., 0.        ,\n",
              "         0.        , 0.        ],\n",
              "        [0.        , 0.        , 0.        , ..., 0.        ,\n",
              "         0.        , 0.        ],\n",
              "        [0.        , 0.        , 0.        , ..., 0.        ,\n",
              "         0.        , 0.        ]],\n",
              "\n",
              "       [[0.        , 0.        , 0.        , ..., 0.        ,\n",
              "         0.        , 0.        ],\n",
              "        [0.        , 0.        , 0.        , ..., 0.        ,\n",
              "         0.        , 0.        ],\n",
              "        [0.        , 0.        , 0.        , ..., 0.        ,\n",
              "         0.        , 0.        ],\n",
              "        ...,\n",
              "        [0.        , 0.        , 0.        , ..., 0.        ,\n",
              "         0.        , 0.        ],\n",
              "        [0.        , 0.        , 0.        , ..., 0.        ,\n",
              "         0.        , 0.        ],\n",
              "        [0.        , 0.        , 0.        , ..., 0.        ,\n",
              "         0.        , 0.        ]],\n",
              "\n",
              "       [[0.        , 0.        , 0.        , ..., 0.        ,\n",
              "         0.        , 0.        ],\n",
              "        [0.        , 0.        , 0.        , ..., 0.        ,\n",
              "         0.        , 0.        ],\n",
              "        [0.        , 0.        , 0.        , ..., 0.        ,\n",
              "         0.        , 0.        ],\n",
              "        ...,\n",
              "        [0.        , 0.        , 0.        , ..., 0.        ,\n",
              "         0.        , 0.        ],\n",
              "        [0.        , 0.        , 0.        , ..., 0.        ,\n",
              "         0.        , 0.        ],\n",
              "        [0.        , 0.        , 0.        , ..., 0.        ,\n",
              "         0.        , 0.        ]],\n",
              "\n",
              "       ...,\n",
              "\n",
              "       [[0.        , 0.        , 0.        , ..., 0.        ,\n",
              "         0.        , 0.        ],\n",
              "        [0.        , 0.        , 0.        , ..., 0.        ,\n",
              "         0.        , 0.        ],\n",
              "        [0.        , 0.        , 0.        , ..., 0.        ,\n",
              "         0.        , 0.        ],\n",
              "        ...,\n",
              "        [0.        , 0.        , 0.        , ..., 0.        ,\n",
              "         0.        , 0.        ],\n",
              "        [0.        , 0.        , 0.        , ..., 0.        ,\n",
              "         0.        , 0.        ],\n",
              "        [0.        , 0.        , 0.        , ..., 0.        ,\n",
              "         0.        , 0.        ]],\n",
              "\n",
              "       [[0.        , 0.        , 0.        , ..., 0.        ,\n",
              "         0.01176471, 0.        ],\n",
              "        [0.        , 0.        , 0.        , ..., 0.        ,\n",
              "         0.01176471, 0.        ],\n",
              "        [0.        , 0.        , 0.01176471, ..., 0.        ,\n",
              "         0.        , 0.00784314],\n",
              "        ...,\n",
              "        [0.        , 0.        , 0.        , ..., 0.00392157,\n",
              "         0.        , 0.        ],\n",
              "        [0.        , 0.        , 0.        , ..., 0.00784314,\n",
              "         0.        , 0.        ],\n",
              "        [0.        , 0.        , 0.        , ..., 0.00392157,\n",
              "         0.        , 0.        ]],\n",
              "\n",
              "       [[0.        , 0.        , 0.        , ..., 0.        ,\n",
              "         0.        , 0.        ],\n",
              "        [0.        , 0.        , 0.        , ..., 0.        ,\n",
              "         0.        , 0.        ],\n",
              "        [0.        , 0.        , 0.        , ..., 0.        ,\n",
              "         0.        , 0.        ],\n",
              "        ...,\n",
              "        [0.        , 0.62352941, 0.84313725, ..., 0.83921569,\n",
              "         1.        , 0.20392157],\n",
              "        [0.        , 0.90196078, 0.98431373, ..., 0.87843137,\n",
              "         1.        , 0.68627451],\n",
              "        [0.        , 0.18823529, 0.6627451 , ..., 0.52156863,\n",
              "         0.45882353, 0.10196078]]])"
            ]
          },
          "metadata": {
            "tags": []
          },
          "execution_count": 9
        }
      ]
    },
    {
      "cell_type": "code",
      "metadata": {
        "id": "6XHcb-VN1Pmu"
      },
      "source": [
        "# defining the dataset\n",
        "def split_dataset(X, y):\n",
        "    y_5_or_6 = (y == 5) | (y == 6) # sandals or shirts\n",
        "    y_A = y[~y_5_or_6]\n",
        "    y_A[y_A > 6] -= 2 # class indices 7, 8, 9 should be moved to 5, 6, 7\n",
        "    y_B = (y[y_5_or_6] == 6).astype(np.float32) # binary classification task: is it a shirt (class 6)?\n",
        "    return ((X[~y_5_or_6], y_A),\n",
        "            (X[y_5_or_6], y_B))\n",
        "\n",
        "\n",
        "\n",
        "(X_train_A, y_train_A), (X_train_B, y_train_B) = split_dataset(X_train, y_train)\n",
        "(X_valid_A, y_valid_A), (X_valid_B, y_valid_B) = split_dataset(X_valid, y_valid)\n",
        "(X_test_A, y_test_A), (X_test_B, y_test_B) = split_dataset(X_test, y_test)\n",
        "X_train_B = X_train_B[:200]\n",
        "y_train_B = y_train_B[:200]"
      ],
      "execution_count": null,
      "outputs": []
    },
    {
      "cell_type": "code",
      "metadata": {
        "colab": {
          "base_uri": "https://localhost:8080/"
        },
        "id": "5Qw6Iler2FKU",
        "outputId": "9612de10-8c4e-4029-b9d6-36763cd79d2b"
      },
      "source": [
        "X_train_A.shape # checking shape of training set A"
      ],
      "execution_count": null,
      "outputs": [
        {
          "output_type": "execute_result",
          "data": {
            "text/plain": [
              "(19875, 28, 28)"
            ]
          },
          "metadata": {
            "tags": []
          },
          "execution_count": 15
        }
      ]
    },
    {
      "cell_type": "code",
      "metadata": {
        "colab": {
          "base_uri": "https://localhost:8080/"
        },
        "id": "0PomvtT62KQ3",
        "outputId": "bdd12c61-5338-4801-abb7-0695a80340fc"
      },
      "source": [
        "X_train_B.shape # checking shape of training set B"
      ],
      "execution_count": null,
      "outputs": [
        {
          "output_type": "execute_result",
          "data": {
            "text/plain": [
              "(200, 28, 28)"
            ]
          },
          "metadata": {
            "tags": []
          },
          "execution_count": 16
        }
      ]
    },
    {
      "cell_type": "code",
      "metadata": {
        "colab": {
          "base_uri": "https://localhost:8080/"
        },
        "id": "qgMSjpbG2N3p",
        "outputId": "7162c5a2-6cb6-47c0-ea39-4b7e111e6dbb"
      },
      "source": [
        "y_train_A[:30] # checking first 30 y-labels for training set A"
      ],
      "execution_count": null,
      "outputs": [
        {
          "output_type": "execute_result",
          "data": {
            "text/plain": [
              "array([4, 0, 5, 7, 7, 7, 4, 4, 3, 4, 0, 1, 6, 3, 4, 3, 2, 6, 5, 3, 4, 5,\n",
              "       1, 3, 4, 2, 0, 6, 7, 1], dtype=uint8)"
            ]
          },
          "metadata": {
            "tags": []
          },
          "execution_count": 17
        }
      ]
    },
    {
      "cell_type": "code",
      "metadata": {
        "colab": {
          "base_uri": "https://localhost:8080/"
        },
        "id": "Wm4-T-7Z2RjG",
        "outputId": "cbabf9e9-4272-4fa6-e732-6b8b5bfb800b"
      },
      "source": [
        "y_train_B[:30] # checking first 30 y-labels for training set B"
      ],
      "execution_count": null,
      "outputs": [
        {
          "output_type": "execute_result",
          "data": {
            "text/plain": [
              "array([1., 1., 0., 0., 0., 0., 1., 1., 1., 0., 0., 1., 1., 0., 0., 0., 0.,\n",
              "       0., 0., 1., 1., 0., 0., 1., 1., 0., 1., 1., 1., 1.], dtype=float32)"
            ]
          },
          "metadata": {
            "tags": []
          },
          "execution_count": 18
        }
      ]
    },
    {
      "cell_type": "code",
      "metadata": {
        "id": "Y9TQGjb12ZZL"
      },
      "source": [
        "# defining the model\n",
        "model_A = keras.models.Sequential()\n",
        "model_A.add(keras.layers.Flatten(input_shape=[28, 28]))\n",
        "for n_hidden in (300, 100, 50, 50, 50):\n",
        "    model_A.add(keras.layers.Dense(n_hidden, activation=\"selu\"))\n",
        "model_A.add(keras.layers.Dense(8, activation=\"softmax\"))"
      ],
      "execution_count": null,
      "outputs": []
    },
    {
      "cell_type": "code",
      "metadata": {
        "id": "6wy3q5q02ckA"
      },
      "source": [
        "# compiling the model\n",
        "model_A.compile(loss=\"sparse_categorical_crossentropy\",\n",
        "                optimizer=keras.optimizers.SGD(lr=1e-3),\n",
        "                metrics=[\"accuracy\"])"
      ],
      "execution_count": null,
      "outputs": []
    },
    {
      "cell_type": "code",
      "metadata": {
        "colab": {
          "base_uri": "https://localhost:8080/"
        },
        "id": "E788Q_eK2f_Q",
        "outputId": "2bc668a4-5e6a-419a-a5ac-0a1598b0c2e4"
      },
      "source": [
        "# training the model\n",
        "history = model_A.fit(X_train_A, y_train_A, epochs=5,\n",
        "                    validation_data=(X_valid_A, y_valid_A))"
      ],
      "execution_count": null,
      "outputs": [
        {
          "output_type": "stream",
          "text": [
            "Epoch 1/5\n",
            "622/622 [==============================] - 3s 3ms/step - loss: 1.1005 - accuracy: 0.6405 - val_loss: 0.4654 - val_accuracy: 0.8411\n",
            "Epoch 2/5\n",
            "622/622 [==============================] - 2s 3ms/step - loss: 0.4377 - accuracy: 0.8556 - val_loss: 0.3871 - val_accuracy: 0.8625\n",
            "Epoch 3/5\n",
            "622/622 [==============================] - 2s 3ms/step - loss: 0.3765 - accuracy: 0.8719 - val_loss: 0.3755 - val_accuracy: 0.8652\n",
            "Epoch 4/5\n",
            "622/622 [==============================] - 2s 3ms/step - loss: 0.3376 - accuracy: 0.8828 - val_loss: 0.3303 - val_accuracy: 0.8857\n",
            "Epoch 5/5\n",
            "622/622 [==============================] - 2s 3ms/step - loss: 0.3210 - accuracy: 0.8905 - val_loss: 0.3229 - val_accuracy: 0.8859\n"
          ],
          "name": "stdout"
        }
      ]
    },
    {
      "cell_type": "code",
      "metadata": {
        "id": "erXpBnnu2jFs"
      },
      "source": [
        "model_A.save(\"my_model_A.h5\") # saving the model we created"
      ],
      "execution_count": null,
      "outputs": []
    },
    {
      "cell_type": "code",
      "metadata": {
        "id": "H-1kKUyF2qZh"
      },
      "source": [
        "# defining the model\n",
        "model_B = keras.models.Sequential()\n",
        "model_B.add(keras.layers.Flatten(input_shape=[28, 28]))\n",
        "for n_hidden in (300, 100, 50, 50, 50):\n",
        "    model_B.add(keras.layers.Dense(n_hidden, activation=\"selu\"))\n",
        "model_B.add(keras.layers.Dense(1, activation=\"sigmoid\"))"
      ],
      "execution_count": null,
      "outputs": []
    },
    {
      "cell_type": "code",
      "metadata": {
        "id": "vDdeDR_S2tSp"
      },
      "source": [
        "# compiling the model with binary crossentropy\n",
        "# that can accept either logits (i.e values from last linear node, z)\n",
        "# or probabilities from the last Sigmoid node\n",
        "model_B.compile(loss=\"binary_crossentropy\",\n",
        "                optimizer=keras.optimizers.SGD(lr=1e-3),\n",
        "                metrics=[\"accuracy\"])"
      ],
      "execution_count": null,
      "outputs": []
    },
    {
      "cell_type": "code",
      "metadata": {
        "colab": {
          "base_uri": "https://localhost:8080/"
        },
        "id": "uh_O_I-Y2w2m",
        "outputId": "70bbcfdd-c706-42dd-c107-00d0eba00f40"
      },
      "source": [
        "# training the model\n",
        "history = model_B.fit(X_train_B, y_train_B, epochs=5,\n",
        "                      validation_data=(X_valid_B, y_valid_B))"
      ],
      "execution_count": null,
      "outputs": [
        {
          "output_type": "stream",
          "text": [
            "Epoch 1/5\n",
            "7/7 [==============================] - 1s 43ms/step - loss: 0.5490 - accuracy: 0.7051 - val_loss: 0.3951 - val_accuracy: 0.8854\n",
            "Epoch 2/5\n",
            "7/7 [==============================] - 0s 16ms/step - loss: 0.3572 - accuracy: 0.8809 - val_loss: 0.3238 - val_accuracy: 0.9229\n",
            "Epoch 3/5\n",
            "7/7 [==============================] - 0s 15ms/step - loss: 0.2792 - accuracy: 0.9437 - val_loss: 0.2761 - val_accuracy: 0.9412\n",
            "Epoch 4/5\n",
            "7/7 [==============================] - 0s 17ms/step - loss: 0.2408 - accuracy: 0.9579 - val_loss: 0.2424 - val_accuracy: 0.9523\n",
            "Epoch 5/5\n",
            "7/7 [==============================] - 0s 16ms/step - loss: 0.2051 - accuracy: 0.9881 - val_loss: 0.2165 - val_accuracy: 0.9604\n"
          ],
          "name": "stdout"
        }
      ]
    },
    {
      "cell_type": "code",
      "metadata": {
        "colab": {
          "base_uri": "https://localhost:8080/"
        },
        "id": "-ea1rXX620OS",
        "outputId": "cb64d9fe-c8ac-4137-b8ad-1a8423be0b74"
      },
      "source": [
        "model_A.summary() # generating model summary"
      ],
      "execution_count": null,
      "outputs": [
        {
          "output_type": "stream",
          "text": [
            "Model: \"sequential_4\"\n",
            "_________________________________________________________________\n",
            "Layer (type)                 Output Shape              Param #   \n",
            "=================================================================\n",
            "flatten_4 (Flatten)          (None, 784)               0         \n",
            "_________________________________________________________________\n",
            "dense_24 (Dense)             (None, 300)               235500    \n",
            "_________________________________________________________________\n",
            "dense_25 (Dense)             (None, 100)               30100     \n",
            "_________________________________________________________________\n",
            "dense_26 (Dense)             (None, 50)                5050      \n",
            "_________________________________________________________________\n",
            "dense_27 (Dense)             (None, 50)                2550      \n",
            "_________________________________________________________________\n",
            "dense_28 (Dense)             (None, 50)                2550      \n",
            "_________________________________________________________________\n",
            "dense_29 (Dense)             (None, 8)                 408       \n",
            "=================================================================\n",
            "Total params: 276,158\n",
            "Trainable params: 276,158\n",
            "Non-trainable params: 0\n",
            "_________________________________________________________________\n"
          ],
          "name": "stdout"
        }
      ]
    },
    {
      "cell_type": "code",
      "metadata": {
        "colab": {
          "base_uri": "https://localhost:8080/"
        },
        "id": "FOIJk0SC22_9",
        "outputId": "fe82a5a5-14c4-48c8-c46f-cd05218d6e76"
      },
      "source": [
        "model_B.summary()"
      ],
      "execution_count": null,
      "outputs": [
        {
          "output_type": "stream",
          "text": [
            "Model: \"sequential_5\"\n",
            "_________________________________________________________________\n",
            "Layer (type)                 Output Shape              Param #   \n",
            "=================================================================\n",
            "flatten_5 (Flatten)          (None, 784)               0         \n",
            "_________________________________________________________________\n",
            "dense_30 (Dense)             (None, 300)               235500    \n",
            "_________________________________________________________________\n",
            "dense_31 (Dense)             (None, 100)               30100     \n",
            "_________________________________________________________________\n",
            "dense_32 (Dense)             (None, 50)                5050      \n",
            "_________________________________________________________________\n",
            "dense_33 (Dense)             (None, 50)                2550      \n",
            "_________________________________________________________________\n",
            "dense_34 (Dense)             (None, 50)                2550      \n",
            "_________________________________________________________________\n",
            "dense_35 (Dense)             (None, 1)                 51        \n",
            "=================================================================\n",
            "Total params: 275,801\n",
            "Trainable params: 275,801\n",
            "Non-trainable params: 0\n",
            "_________________________________________________________________\n"
          ],
          "name": "stdout"
        }
      ]
    },
    {
      "cell_type": "code",
      "metadata": {
        "id": "nTTftawh27fj"
      },
      "source": [
        "model_A = keras.models.load_model(\"my_model_A.h5\") # loading our saved model\n",
        "model_B_on_A = keras.models.Sequential(model_A.layers[:-1]) # creating new model based on existing layer\n",
        "model_B_on_A.add(keras.layers.Dense(1, activation=\"sigmoid\")) # adding new layer to new model\n",
        "\n"
      ],
      "execution_count": null,
      "outputs": []
    },
    {
      "cell_type": "code",
      "metadata": {
        "id": "sHy9WAm13DDI"
      },
      "source": [
        "# model_A and model_B_on_A now share some layers. When you train\n",
        "# model_B_on_A, it will also affect model_A. To avoid that, you need to clone\n",
        "# model_A before you reuse its layers. To do this, you clone model A’s\n",
        "# architecture with clone_model(), then copy its weights\n",
        "# (since clone_model() does not clone the weights)\n",
        "model_A_clone = keras.models.clone_model(model_A)\n",
        "model_A_clone.set_weights(model_A.get_weights())"
      ],
      "execution_count": null,
      "outputs": []
    },
    {
      "cell_type": "code",
      "metadata": {
        "id": "NM3ksTd13EXR"
      },
      "source": [
        "# freezing reused layers\n",
        "for layer in model_B_on_A.layers[:-1]:\n",
        "    layer.trainable = False\n",
        "\n",
        "# compiling the model\n",
        "model_B_on_A.compile(loss=\"binary_crossentropy\",\n",
        "                     optimizer=keras.optimizers.SGD(lr=1e-3),\n",
        "                     metrics=[\"accuracy\"])"
      ],
      "execution_count": null,
      "outputs": []
    },
    {
      "cell_type": "code",
      "metadata": {
        "colab": {
          "base_uri": "https://localhost:8080/"
        },
        "id": "sQbLokMQ3Iqw",
        "outputId": "2091e993-a92a-43f4-ae6c-32f3fe873bd8"
      },
      "source": [
        "# training the model\n",
        "history = model_B_on_A.fit(X_train_B, y_train_B, epochs=4,\n",
        "                           validation_data=(X_valid_B, y_valid_B))\n",
        "\n",
        "# unfreezing reused layers\n",
        "for layer in model_B_on_A.layers[:-1]:\n",
        "    layer.trainable = True\n",
        "\n",
        "# compiling after reducing learning rate to avoid damaging the reused weights\n",
        "model_B_on_A.compile(loss=\"binary_crossentropy\",\n",
        "                     optimizer=keras.optimizers.SGD(lr=1e-3),\n",
        "                     metrics=[\"accuracy\"])\n",
        "\n",
        "# training the model\n",
        "history = model_B_on_A.fit(X_train_B, y_train_B, epochs=5,\n",
        "                           validation_data=(X_valid_B, y_valid_B))"
      ],
      "execution_count": null,
      "outputs": [
        {
          "output_type": "stream",
          "text": [
            "Epoch 1/4\n",
            "7/7 [==============================] - 0s 21ms/step - loss: 0.1387 - accuracy: 0.9850 - val_loss: 0.1463 - val_accuracy: 0.9787\n",
            "Epoch 2/4\n",
            "7/7 [==============================] - 0s 15ms/step - loss: 0.1250 - accuracy: 0.9850 - val_loss: 0.1354 - val_accuracy: 0.9787\n",
            "Epoch 3/4\n",
            "7/7 [==============================] - 0s 15ms/step - loss: 0.1141 - accuracy: 0.9950 - val_loss: 0.1265 - val_accuracy: 0.9797\n",
            "Epoch 4/4\n",
            "7/7 [==============================] - 0s 17ms/step - loss: 0.1051 - accuracy: 0.9950 - val_loss: 0.1188 - val_accuracy: 0.9817\n",
            "Epoch 1/5\n",
            "7/7 [==============================] - 1s 45ms/step - loss: 0.0992 - accuracy: 0.9931 - val_loss: 0.1122 - val_accuracy: 0.9838\n",
            "Epoch 2/5\n",
            "7/7 [==============================] - 0s 16ms/step - loss: 0.0859 - accuracy: 0.9981 - val_loss: 0.1066 - val_accuracy: 0.9838\n",
            "Epoch 3/5\n",
            "7/7 [==============================] - 0s 17ms/step - loss: 0.0813 - accuracy: 0.9912 - val_loss: 0.1018 - val_accuracy: 0.9838\n",
            "Epoch 4/5\n",
            "7/7 [==============================] - 0s 17ms/step - loss: 0.0807 - accuracy: 0.9931 - val_loss: 0.0975 - val_accuracy: 0.9848\n",
            "Epoch 5/5\n",
            "7/7 [==============================] - 0s 17ms/step - loss: 0.0777 - accuracy: 0.9842 - val_loss: 0.0937 - val_accuracy: 0.9848\n"
          ],
          "name": "stdout"
        }
      ]
    },
    {
      "cell_type": "code",
      "metadata": {
        "colab": {
          "base_uri": "https://localhost:8080/"
        },
        "id": "dQkUjT9U3MVk",
        "outputId": "cab3fa65-1c47-46d3-b350-d1c69181bf5a"
      },
      "source": [
        "model_B.evaluate(X_test_B, y_test_B) # evaluating the model A"
      ],
      "execution_count": null,
      "outputs": [
        {
          "output_type": "stream",
          "text": [
            "31/31 [==============================] - 0s 2ms/step - loss: 0.2211 - accuracy: 0.9576\n"
          ],
          "name": "stdout"
        },
        {
          "output_type": "execute_result",
          "data": {
            "text/plain": [
              "[0.22109617292881012, 0.9576008319854736]"
            ]
          },
          "metadata": {
            "tags": []
          },
          "execution_count": 47
        }
      ]
    },
    {
      "cell_type": "code",
      "metadata": {
        "id": "FXlCIw_93R6_",
        "colab": {
          "base_uri": "https://localhost:8080/"
        },
        "outputId": "28206752-3d3f-428c-93e5-0a8f2b011fc0"
      },
      "source": [
        "model_B_on_A.evaluate(X_test_B, y_test_B) # evaluating the model B"
      ],
      "execution_count": null,
      "outputs": [
        {
          "output_type": "stream",
          "text": [
            "31/31 [==============================] - 0s 2ms/step - loss: 0.0875 - accuracy: 0.9938\n"
          ],
          "name": "stdout"
        },
        {
          "output_type": "execute_result",
          "data": {
            "text/plain": [
              "[0.08754471689462662, 0.9937952160835266]"
            ]
          },
          "metadata": {
            "tags": []
          },
          "execution_count": 48
        }
      ]
    }
  ]
}